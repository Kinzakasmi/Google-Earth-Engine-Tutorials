{
  "cells": [
    {
      "cell_type": "markdown",
      "source": [
        "**Author** : Kinza Kasmi  \n",
        "**Date** : February 2021\n",
        "\n",
        "This tutorial explains the basic features of Google Earth Engine and the Java as well as the Python associated syntax."
      ],
      "metadata": {
        "id": "il4P2zK6jbne"
      }
    },
    {
      "cell_type": "markdown",
      "metadata": {
        "id": "DvlLCATb0bo6"
      },
      "source": [
        "# Importing earth engine"
      ]
    },
    {
      "cell_type": "code",
      "execution_count": null,
      "metadata": {
        "id": "P_gk0tLj15Xg"
      },
      "outputs": [],
      "source": [
        "# Import, authenticate and initialize the Earth Engine library.\n",
        "import ee\n",
        "ee.Authenticate()\n",
        "ee.Initialize()"
      ]
    },
    {
      "cell_type": "markdown",
      "metadata": {
        "id": "Q6shWpmoM_-P"
      },
      "source": [
        "# Table of Contents\n",
        "* [I. Quick Start](#I.-Quick-Start)\n",
        "    * [1. Declaring Variables](#1.-Declaring-Variables)\n",
        "    * [2. Filtering](#2.-Filtering)\n",
        "    * [3. Mapping](#3.-Mapping)\n",
        "    * [4. Displaying Metadata](#4.-Displaying-Metadata)\n",
        "    * [5. Exporting Data](#5.-Exporting-Data)\n",
        "    * [6. Example : Exporting a Sentinel1 tif Image](#6.-Example-:-Exporting-a-Sentinel1-tif-Image)\n",
        "* [II. Satellite Images Export](#II.Satellite-Images-Export)\n",
        "    * [1. Image Extraction](#1.-Image-Extraction)\n",
        "    * [2. Region Definition](#2.-Region-Definition)\n",
        "    * [3. Export to tif and kml](#3.-Export-to-tif-and-kml)\n",
        "    * [4. Putting Everything Together](#4.-Putting-Everything-Together)\n",
        "* [III. Earth Engine Code Editor Tutorials](#III.-Earth-Engine-Code-Editor-Tutorials)\n",
        "    * [1. Add Table to Assets](#1.-Add-Table-to-Assets)\n",
        "    * [2. Add Image to Assets](#2.-Add-Image-to-Assets)\n",
        "    * [3. Adding Missclassified Pixels to Assets and Array\n",
        "    ](#3.-Adding-Missclassified-Pixels-to-Assets-and-Array)"
      ]
    },
    {
      "cell_type": "markdown",
      "metadata": {
        "id": "V9wTOpZp16MI"
      },
      "source": [
        "# I. Quick Start"
      ]
    },
    {
      "cell_type": "markdown",
      "metadata": {
        "id": "70jnTgWejA-J"
      },
      "source": [
        "# Table of Contents\n",
        "* [1. Declaring Variables](#1.-Declaring-Variables)\n",
        "* [2. Filtering](#2.-Filtering)\n",
        "* [3. Mapping](#3.-Mapping)\n",
        "* [4. Displaying Metadata](#4.-Displaying-Metadata)\n",
        "* [5. Exporting Data](#5.-Exporting-Data)\n",
        "* [6. Example : Exporting a Sentinel1 tif Image](#6.-Example-:-Exporting-a-Sentinel1-tif-Image)"
      ]
    },
    {
      "cell_type": "markdown",
      "metadata": {
        "id": "7uf0Q6AHOVpe"
      },
      "source": [
        "## 1. Declaring Variables\n",
        "```\n",
        "var variableName = ee.ContainerType(value); #Java   \n",
        "variableName = ee.ContainerType(value) #Python\n",
        "```\n",
        "\n",
        "**Examples** :  \n",
        "ee.Geometry  \n",
        "ee.Feature  \n",
        "ee.FeatureCollection  \n",
        "ee.Image  \n",
        "ee.ImageCollection"
      ]
    },
    {
      "cell_type": "markdown",
      "metadata": {
        "id": "-H20J-6a6Oj_"
      },
      "source": [
        "### a. Geometries"
      ]
    },
    {
      "cell_type": "code",
      "execution_count": null,
      "metadata": {
        "id": "T3oqKu7yuSlX"
      },
      "outputs": [],
      "source": [
        "# -------------------------  Declaration -----------------------------\n",
        "point = ee.Geometry.Point(2.3488,48.8534) #(longitude,latitude)\n",
        "\n",
        "multiPoint = ee.Geometry.MultiPoint(0, 45, 5, 6, 70, -56)\n",
        "\n",
        "lineString = ee.Geometry.LineString([[0, 45], [5, 6], [70, -56]])\n",
        "\n",
        "multiLineString = ee.Geometry.MultiLineString([[[0, 45], [5, 6], [70, -56]], [[0, -45], [-5, -6], [-70, 56]]])\n",
        "\n",
        "linearRing = ee.Geometry.LinearRing(0, 45, 5, 6, 70, -56, 0, 45)\n",
        "\n",
        "rectangle = ee.Geometry.Rectangle(0, 0, 60, 30)  #(xmin,ymin,xmax,ymax)\n",
        "\n",
        "polygon = ee.Geometry.Polygon([[[0, 0], [6, 3], [5, 5], [-30, 2], [0, 0]]])\n",
        "\n",
        "multiPolygons = ee.Geometry.MultiPolygon([ee.Geometry.Polygon([[0, 0], [6, 3], [5, 5], [-30, 2], [0, 0]]),ee.Geometry.Polygon([[0, 0], [-6, -3], [-5, -5], [30, -2], [0, 0]])])\n",
        "\n",
        "# -------------------------  Operations -----------------------------\n",
        "# Finding the length of a line\n",
        "linLen = lineString.length()\n",
        "\n",
        "# Finding the perimeter of a geometry\n",
        "geoPeri = geometry.perimeter()\n",
        "\n",
        "# Reducing number of vertices in geometry\n",
        "simpGeo = geometry.simplify(100)\n",
        "\n",
        "# Finding the centroid of a geometry\n",
        "centrGeo = geometry.centroid()\n",
        "\n",
        "# Creating buffer around a geometry\n",
        "buffGeo = geometry.buffer(100) #in meters\n",
        "\n",
        "# Finding the bounding rectangle of a geometry\n",
        "bounGeo = geometry.bounds()\n",
        "\n",
        "# Finding the smallest polygon that can envelope a geometry\n",
        "convexGeo = geometry.convexHull()\n",
        "\n",
        "# Finding common areas between two or more geometries\n",
        "interGeo = geometry1.intersection(geometry2)\n",
        "\n",
        "# Finding the area that includes two or more geometries\n",
        "unGeo = geometry1.union(geometry2)\n"
      ]
    },
    {
      "cell_type": "markdown",
      "metadata": {
        "id": "Kp-CimxH6Rdj"
      },
      "source": [
        "### b. Features and FeatureCollections\n",
        "* Features are geometries associated with specific properties.  \n",
        "* Feature collections are groups of features."
      ]
    },
    {
      "cell_type": "code",
      "execution_count": null,
      "metadata": {
        "id": "gkraIHaS8GWl"
      },
      "outputs": [],
      "source": [
        "# Load US county dataset and filter the counties that are in Connecticut.\n",
        "countyData=ee.FeatureCollection('TIGER/2018/Counties').filter(ee.Filter.eq('STATEFP', '09'))\n",
        "\n",
        "# Creating a feature with a specific property value\n",
        "feat = ee.Feature(geometry, {'Name': 'featureName', 'Size': 500})\n",
        "\n",
        "# Creating a feature from an existing feature, renaming a property\n",
        "featNew = feature.select(['name'], ['descriptor'])\n",
        "\n",
        "# Extracting values of a property from a Feature\n",
        "featVal = feature.get('size')\n"
      ]
    },
    {
      "cell_type": "markdown",
      "metadata": {
        "id": "9XSjg9Zm71qI"
      },
      "source": [
        "### c. Images and ImageCollections"
      ]
    },
    {
      "cell_type": "code",
      "execution_count": null,
      "metadata": {
        "id": "r9aHDsFj6QbO"
      },
      "outputs": [],
      "source": [
        "# ---------------------------- Declaration -------------------------------\n",
        "collection = ee.ImageCollection('LANDSAT/LC08/C01/T1_SR').filterDate('2020-01-01','2020-12-31').filterRegion(rectangle).filterMetadata('CLOUD_COVER','less_than',0.3)\n",
        "image = collection.median() #or image = ee.Image('AssetId') if the image exists in the database\n",
        "\n",
        "#------------------------ Operations on images ---------------------------\n",
        "\n",
        "# Selecting the bands of an image\n",
        "band = image.select(bandName) #example : image.select('B1')\n",
        "\n",
        "# Creating masks\n",
        "mask = image.eq(value); #or .neq or .gt or .gte or .lt or .lte\n",
        "\n",
        "# Applying image masks\n",
        "masked = image.updateMask(mask)\n",
        "\n",
        "# Performing pixelwise calculations\n",
        "results = image.add(value) #or .subtract , .multiply , .divide , .max , .min , .abs , .round , .floor , .ceil , .sqrt , .exp, .log, .log10, .sin , .cos , .tan , .sinh , .cosh , .tanh , .acos, .asin\n",
        "\n",
        "# Shift pixels of an image\n",
        "newImage = oldImage.leftShift(valueOfShift) #or .rightShift\n",
        "\n",
        "# Reducing an image to a statistic for an area of interest\n",
        "outputDictionary = varImage.reduceRegion(reducer, geometry, scale)  #see the list of reducers in ee. documentation\n",
        "\n",
        "#-------------------- Operations on image collections ----------------------\n",
        "\n",
        "# Selecting the first n images in a collection (based on property)\n",
        "selectedImages = imCollection.limit(n, propertyName, order)\n",
        "\n",
        "# Selecting images based on particular properties\n",
        "selectedIm = imCollection.filterMetadata(propertyName, operator, value) #Operators include: “equals”, “less_than”, “greater_than”, “not_equals”, “not_less_than”, “not_greater_than”, “starts_with”, “ends_with”, “not_starts_with”, “not_ends_with”, “contains”, “not_contains”.\n",
        "##example : collection.filterMetadata('CLOUD_COVER','less_than',0.3)\n",
        "\n",
        "# Selecting images within a date range\n",
        "selectedIm = imCollection.filterDate(startDate, stopDate)\n",
        "\n",
        "# Selecting images within a bounding geometry\n",
        "selectedIm = imCollection.filterBounds(geometry)\n",
        "\n",
        "# Performing pixelwise calculations for all images in a collection\n",
        "sumOfImages = imCollection.sum() #or product(), max(), min(), mean(), mode(), median(), count().\n",
        "\n",
        "# Alternatively, using reducers:\n",
        "sumOfImages = imCollection.reduce(ee.Reducer.sum());\n",
        "\n",
        "# Compositing images in collection with the last image on top\n",
        "mosaicOfImages = imCollection.mosaic();\n",
        "\n",
        "# Alternatively, using reducers:\n",
        "sumOfImages = imCollection.reduce(ee.Reducer.first());\n"
      ]
    },
    {
      "cell_type": "markdown",
      "metadata": {
        "id": "zGS1fJK675Fa"
      },
      "source": [
        "### d. Other types"
      ]
    },
    {
      "cell_type": "code",
      "execution_count": null,
      "metadata": {
        "id": "h4NcnRYU78dA"
      },
      "outputs": [],
      "source": [
        "# Other types\n",
        "string = ee.String('This is a string')\n",
        "number = ee.Number(5);\n",
        "array = ee.Array([[5, 2, 3], [-2, 7, 10], [6, 6, 9]])\n",
        "liste = ee.List([5, 'five', 6, 'six'])\n",
        "dictionary = ee.Dictionary({'five': 5, 'six': 6})"
      ]
    },
    {
      "cell_type": "markdown",
      "metadata": {
        "id": "ztmLHyfM77hI"
      },
      "source": [
        "## 2. Filtering"
      ]
    },
    {
      "cell_type": "code",
      "execution_count": null,
      "metadata": {
        "id": "rSGuoinK9Pqc"
      },
      "outputs": [],
      "source": [
        "# Filtering by property values\n",
        "bFilter = ee.Filter.eq(propertyName, value) #or .neq , .gt , .gte , .lt , and .lte\n",
        "\n",
        "# Filtering based on maximum difference from a threshold\n",
        "diffFilter = ee.Filter.maxDifference(threshold, propertyName, value)\n",
        "\n",
        "# Filtering by text property\n",
        "var txtFilter = ee.Filter.stringContains(propertyName, stringValue) #or .stringStartsWith, and .stringEndsWith\n",
        "\n",
        "# Filtering by a value range\n",
        "var rangeFilter = ee.Filter.rangeContains(propertyName, stringValue, minValue, maxValue)\n",
        "\n",
        "# Filtering by specific property values\n",
        "var listFilter = ee.Filter.listContains(propertyName, value1, propertyName2, value2) #.inList to test against a list of values\n",
        "\n",
        "# Filtering by date range\n",
        "var dateFilter = ee.Filter.calendarRange(startDate, stopDate)\n",
        "\n",
        "# Filtering by particular days of the year\n",
        "dayFilter = ee.Filter.dayOfYear(startDay, stopDay)\n",
        "\n",
        "# Filtering by a bounding area\n",
        "boundsFilter = ee.Filter.bounds(geometryOrFeature)\n",
        "\n",
        "# Combining and inversing filters\n",
        "newFilterAnd = ee.Filter.and(listOfFilters)\n",
        "newFilterOr = ee.Filter.or(listOfFilters)\n",
        "inverseFilter = ee.Filter.not(filter)"
      ]
    },
    {
      "cell_type": "markdown",
      "metadata": {
        "id": "u7PWy4771rLS"
      },
      "source": [
        "## 3. Mapping"
      ]
    },
    {
      "cell_type": "code",
      "execution_count": null,
      "metadata": {
        "id": "lzVpAqp71jJ2"
      },
      "outputs": [],
      "source": [
        "import geemap.foliumap as emap\n",
        "Map = emap.Map()\n",
        "\n",
        "Map.setCenterObject(point,10) #or Map.setCenter(long, lat, zoomLevel), Zoom level varies from 0 (no zoom) to 20 (highest zoom level)\n",
        "\n",
        "# The following params are for landsat images only, check min/max of images if other source of image (Exemple min:0,max:0.3 for sentinel2)\n",
        "visParams = {\n",
        "  'bands': ['B4', 'B3', 'B2'],\n",
        "  'min': 0,\n",
        "  'max': 1,\n",
        "  'gamma': 1.4,\n",
        "}\n",
        "\n",
        "Map.addLayer(image,visParams,'landsat image')\n",
        "\n",
        "Map"
      ]
    },
    {
      "cell_type": "markdown",
      "metadata": {
        "id": "Ez9RH4cP3br-"
      },
      "source": [
        "## 4. Displaying Metadata"
      ]
    },
    {
      "cell_type": "code",
      "execution_count": null,
      "metadata": {
        "id": "XBitI1Hf3ntr"
      },
      "outputs": [],
      "source": [
        "print(image.getInfo()) \n",
        "#Be careful, if the image is too big (no boundaries for example) you will have an error due to memory (you can't print more than 5,000 elements at once) try print(image.clip(region).getInfo()) instead\n",
        "print(rectangle.getInfo())"
      ]
    },
    {
      "cell_type": "markdown",
      "metadata": {
        "id": "PM11H2qM4KuP"
      },
      "source": [
        "## 5. Exporting Data"
      ]
    },
    {
      "cell_type": "code",
      "execution_count": null,
      "metadata": {
        "id": "OExCEjyC_Daw"
      },
      "outputs": [],
      "source": [
        "Export.image.toDrive({\n",
        "  'collection': varImage, \n",
        "  'description': 'fileName', \n",
        "  'region': geometry, \n",
        "  'scale': 1000\n",
        "})\n",
        "\n",
        "#or Export.image.toCloudStorage(), Export.image.toAsset(), Export.table.toDrive(), Export.table.toCloudStorage(), Export.video.toCloudStorage(), Export.video.toDrive()."
      ]
    },
    {
      "cell_type": "markdown",
      "metadata": {
        "id": "mtbDgQDsBSHC"
      },
      "source": [
        "## 6. Example : Exporting a Sentinel1 tif Image \n",
        "The image is taken from a window of a given center and radius"
      ]
    },
    {
      "cell_type": "code",
      "execution_count": null,
      "metadata": {
        "id": "09M2iTcrBaAW"
      },
      "outputs": [],
      "source": [
        "def get_sentinel1(date_min,date_max,longitude,latitude,radius):\n",
        "  # Image collection filtering \n",
        "  collection = ee.ImageCollection(\"COPERNICUS/S1_GRD\")\n",
        "  collection = collection.filter(ee.Filter.listContains('transmitterReceiverPolarisation', 'VV')).filter(ee.Filter.listContains('transmitterReceiverPolarisation', 'VH'))\n",
        "  collection = collection.select('VV','VH').filterDate(date_min,date_max)\n",
        "\n",
        "  # Image definition\n",
        "  image = collection.median()\n",
        "  # When you take the median, the projection of the image changes, use image.setDefaultProjection to change the projection and image.projection to find the projection\n",
        "  image = image.setDefaultProjection(collection.first().projection())\n",
        "  point = ee.Geometry.Point([longitude,latitude])\n",
        "  image = image.clip(point.buffer(radius))\n",
        "\n",
        "  # Bands processing\n",
        "  band1 = image.select('VV')\n",
        "  band2 = image.select('VH')\n",
        "  band3 = image.select('VV').subtract(image.select('VH'))\n",
        "  image = image.cat([band1,band2,band3])\n",
        "  # Rename bands\n",
        "  image = image.select(['VV','VH','VV_1'],['VV','VH','VV_VH'])\n",
        "  return image,point\n",
        "\n",
        "def download_tif(date_min,date_max,longitude,latitude,name,folder) :\n",
        "  image,point = get_sentinel1(date_min,date_max,longitude,latitude)\n",
        "  task= ee.batch.Export.image.toDrive(\n",
        "      image       = image,\n",
        "      description = name,\n",
        "      folder      = folder,\n",
        "      fileNamePrefix = name,\n",
        "      region      = image.clip(point).bounds(),\n",
        "      scale       = 30,\n",
        "      crs         = 'EPSG:4326'\n",
        "  )\n",
        "  task.start()"
      ]
    },
    {
      "cell_type": "code",
      "execution_count": null,
      "metadata": {
        "id": "hT85V6jBcx8y"
      },
      "outputs": [],
      "source": [
        "download_tif('2020-01-01','2020-12-31',2.3488,48.8534,'sentinel1','data')"
      ]
    },
    {
      "cell_type": "markdown",
      "metadata": {
        "id": "xGgmpWDqOaxJ"
      },
      "source": [
        "# II. Satellite Images Export \n",
        "## Table of Contents\n",
        "* [1. Image Extraction](#1.-Image-Extraction)\n",
        "* [2. Region Definition](#2.-Region-Definition)\n",
        "* [3. Export to tif and kml](#3.-Export-to-tif-and-kml)\n",
        "* [4. Putting Everything Together](#4.-Putting-Everything-Together)"
      ]
    },
    {
      "cell_type": "markdown",
      "metadata": {
        "id": "fY-rNKGcCXmj"
      },
      "source": [
        "## 1. Image Extraction"
      ]
    },
    {
      "cell_type": "code",
      "execution_count": null,
      "metadata": {
        "id": "PtP1Ad340Xyo"
      },
      "outputs": [],
      "source": [
        "def get_sentinel1(date_min,date_max):\n",
        "  # Image collection filtering \n",
        "  collection = ee.ImageCollection(\"COPERNICUS/S1_GRD\")\n",
        "  collection = collection.filter(ee.Filter.listContains('transmitterReceiverPolarisation', 'VV')).filter(ee.Filter.listContains('transmitterReceiverPolarisation', 'VH'))\n",
        "  collection = collection.select('VV','VH').filterDate(date_min,date_max)\n",
        "  # Image definition \n",
        "  # You can take the median of the image collection by setting image=collection.median(), or one image by setting image=collection.first()\n",
        "  image = collection.median() #If you want an image of a particular date, set date_min=date_max (if you are lucky and there's an image taken that day) and set image=collection.first()\n",
        "  \n",
        "  # When we take the median, the projection of the image changes, let's recover it \n",
        "  image = image.setDefaultProjection(collection.first().projection())\n",
        "\n",
        "  # Bands processing\n",
        "  band1 = image.select('VV')\n",
        "  band2 = image.select('VH')\n",
        "  band3 = image.select('VV').subtract(image.select('VH')) #or any operation you want\n",
        "  image = image.cat([band1,band2,band3])\n",
        "  # Rename the bands\n",
        "  image = image.select(['VV','VH','VV_1'],['VV','VH','VV_VH'])\n",
        "  return image\n",
        "\n",
        "def maskS2clouds(image):\n",
        "    qa = image.select('QA60')\n",
        "    # Bits 10 and 11 are clouds and cirrus, respectively.\n",
        "    cloudBitMask = ee.Number(2).pow(10).int();\n",
        "    cirrusBitMask = ee.Number(2).pow(11).int();\n",
        "    # Both flags should be set to zero, indicating clear conditions.\n",
        "    mask = qa.bitwiseAnd(cloudBitMask).eq(0).And(qa.bitwiseAnd(cirrusBitMask).eq(0))\n",
        "    return image.updateMask(mask).divide(10000)\n",
        "\n",
        "def get_sentinel2(date_min,date_max):\n",
        "  # Image collection filtering \n",
        "  collection = ee.ImageCollection(\"COPERNICUS/S2\").filterDate(date_min,date_max)\n",
        "\n",
        "  # Removing clouds\n",
        "  collection = collection.filter(ee.Filter.lt('CLOUDY_PIXEL_PERCENTAGE', 20)).map(maskS2clouds)\n",
        "\n",
        "  # Image definition \n",
        "  # You can take the median of the image collection by setting image=collection.median(), or one image by setting image=collection.first()\n",
        "  image = collection.median()\n",
        "  \n",
        "  # When we take the median, the projection of the image changes, let's recover it \n",
        "  image = image.setDefaultProjection(collection.first().select('B3').projection())\n",
        "  return image\n",
        "\n",
        "def get_ndvi(date_min,date_max):\n",
        "  # Image collection filtering \n",
        "  collection = ee.ImageCollection(\"COPERNICUS/S2\").select('B4','B3','B8','B11').filterDate(date_min,date_max)\n",
        "  collection = collection.filter(ee.Filter.lt('CLOUDY_PIXEL_PERCENTAGE', 20)).map(maskS2clouds)\n",
        "\n",
        "  # Image definition \n",
        "  # You can take the median of the image collection by setting image=collection.median(), or one image by setting image=collection.first()\n",
        "  image = collection.median()\n",
        "  # When we take the median, the projection of the image changes, let's recover it \n",
        "  image = image.setDefaultProjection(collection.first().select('B3').projection())\n",
        "\n",
        "  # Bands processing\n",
        "  ndvi = image.normalizedDifference(['B8','B4'])\n",
        "  ndwi = image.normalizedDifference(['B3','B8'])\n",
        "  image = image.addBands([ndvi,ndwi])\n",
        "  # Rename the bands\n",
        "  image = image.select(['nd','nd_1'],['ndvi','ndwi']) \n",
        "  return image"
      ]
    },
    {
      "cell_type": "markdown",
      "metadata": {
        "id": "JO5z_RwTEtNH"
      },
      "source": [
        "## 2. Region Definition"
      ]
    },
    {
      "cell_type": "code",
      "execution_count": null,
      "metadata": {
        "id": "iJU0kiK2021o"
      },
      "outputs": [],
      "source": [
        "def get_region(method,point=None,radius=None,rectangle=None,ftscolname=None):\n",
        "  '''Returns the region of extraction\n",
        "  Arguments :\n",
        "    Method can be either 'point', 'shape' or 'rectangle' :\n",
        "      - 'point' : returns a square image with center 'point' and radius 'radius' (in meters)\n",
        "      - 'feature' : returns the entire image that contains the feature collection 'ftscolname'\n",
        "      - 'rectangle' : returns the image delimited by a rectangle 'rectangle' ie by 4 coordinates [xmin,ymin,xmax,ymax]\n",
        "    point : a tuple (x,y), required if method = 'point'\n",
        "    radius : the radius in meters of the square image which center is 'point', required if method = 'point'\n",
        "    rectangle : an array [xmin,ymin,xmax,ymax] required if method = 'rectangle'\n",
        "    ftscolname : a string, the name of the shape feature collection.\n",
        "  Returns : Region, an ee.Geometry\n",
        "  '''\n",
        "  if method == 'point' :\n",
        "    if not radius or not point :\n",
        "      raise ValueError(\"Argument 'point' and 'radius' are required if method is 'point'\")\n",
        "    point = ee.Geometry.Point(point)\n",
        "    region = point.buffer(radius).bounds()\n",
        "    \n",
        "  elif method == 'feature' :\n",
        "    if not ftscolname :\n",
        "      raise ValueError(\"Argument 'ftscolname' is required if method is 'shape'\")\n",
        "    shape = ee.FeatureCollection('users/'+ftscolname)\n",
        "    region = shape.geometry().bounds()\n",
        "\n",
        "  elif method == 'rectangle' :\n",
        "    if not rectangle :\n",
        "      raise ValueError(\"Argument 'rectangle' is required if method is 'rectangle'\")\n",
        "    rectangle = ee.Geometry.Rectangle(rectangle)\n",
        "    region = rectangle.geometry().bounds()\n",
        "  else :\n",
        "    raise NotImplementedError('This method is not implemented')\n",
        "  return region"
      ]
    },
    {
      "cell_type": "markdown",
      "metadata": {
        "id": "6HXxviQnO4Ml"
      },
      "source": [
        "## 3. Export to tif and kml\n",
        "### Export a tif image "
      ]
    },
    {
      "cell_type": "code",
      "execution_count": null,
      "metadata": {
        "id": "p1EO0SnAehM3"
      },
      "outputs": [],
      "source": [
        "def download_tif(image,region,name,folder,dimensions=None,scale=None) :\n",
        "  '''Exports a tif image.\n",
        "  Arguments :\n",
        "    image : ee.Image to export\n",
        "    region: ee.Geometry, the exported region\n",
        "    name : the name of the file\n",
        "    folder : the folder where the tif image will be saved. Could only be a folder (example : 'data'), not a directory. If you want to save the \n",
        "      image in a folder in a different directory, execute os.chdir(new_directory) at the beginning of this notebook\n",
        "    dimensions : an array [height,width], the dimension in pixels of the image. Default to the dimensions of the image, determined by the region and the nominal (or provided) scale.\n",
        "    scale : float, in meters. Default to the scale of the image, determined by the region and the nominal (or provided) dimensions.\n",
        "  !Error! if both dimensions and scale are provided\n",
        "  '''\n",
        "  if dimensions and scale :\n",
        "    raise ValueError(\"You can't provide both dimensions and scale\")\n",
        "\n",
        "  task= ee.batch.Export.image.toDrive(\n",
        "      image       = image,\n",
        "      region      = region,\n",
        "      description = name,\n",
        "      folder      = folder,\n",
        "      fileNamePrefix = name,\n",
        "      crs         = 'EPSG:4326',\n",
        "      dimensions  = dimensions, #Be careful, if scale=10m, the maximum allowed dimension is [7680,7680]\n",
        "      scale       = scale\n",
        "  )\n",
        "  task.start()"
      ]
    },
    {
      "cell_type": "markdown",
      "metadata": {
        "id": "OijKzjMLavBO"
      },
      "source": [
        "## 4. Putting Everything Together"
      ]
    },
    {
      "cell_type": "code",
      "execution_count": null,
      "metadata": {
        "id": "KFeD9UBFWwJJ"
      },
      "outputs": [],
      "source": [
        "def get_tif(source,method,date_min,date_max,folder,point=None,radius=None,rectangle=None,ftscolname=None,dimensions=None,scale=None) :\n",
        "  import os \n",
        "  import time\n",
        "\n",
        "  # download tif\n",
        "  print('Processing', source)\n",
        "  if source == 'sentinel2' :\n",
        "    fn = get_sentinel2\n",
        "  elif source == 'sentinel1' :\n",
        "    fn = get_sentinel1\n",
        "  elif source == 'ndvi' :\n",
        "    fn = get_ndvi\n",
        "  else :\n",
        "    raise \"Image source not available\"\n",
        "\n",
        "  # Get the image and the region\n",
        "  image  = fn(date_min,date_max)\n",
        "  region = get_region(method,point,radius,rectangle,ftscolname)\n",
        "\n",
        "  # Define the name of the tif image\n",
        "  #date = image.date().format().getInfo()[:10] #only if you used image=collection.first()\n",
        "  date = date_min.split('-',1)[-1] #only if used image=collection.median() or image=collection.mosaic()\n",
        "  name = source+'_'+date\n",
        "\n",
        "  # Download the tif image\n",
        "  if not os.path.isfile(folder+'/'+name+'.tif') :\n",
        "    download_tif(image,region,name,folder,dimensions,scale)"
      ]
    },
    {
      "cell_type": "code",
      "execution_count": null,
      "metadata": {
        "id": "d9Uj_fOnoCTU"
      },
      "outputs": [],
      "source": [
        "source   = 'sentinel1' #@param [\"sentinel1\",\"sentinel2\",\"ndvi\"]\n",
        "method   = 'point' #@param [\"point\",\"feature\",\"rectangle\"]\n",
        "date_min = '2020-01-01' #@param {type:'string'}\n",
        "date_max = '2020-12-31' #@param {type:'string'}\n",
        "folder   = '' #@param {type:'string'}\n",
        "\n",
        "point       = None #@param\n",
        "radius      = None #@param\n",
        "rectangle   = None #@param\n",
        "ftscolname  = None #@param\n",
        "dimensions  = None #@param\n",
        "scale       = None #@param\n",
        "\n",
        "get_tif(source,method,date_min,date_max,folder,\n",
        "        point=point,radius=radius,rectangle=rectangle,ftscolname=ftscolname,\n",
        "        dimensions=dimensions,scale=scale)"
      ]
    },
    {
      "cell_type": "markdown",
      "metadata": {
        "id": "COQ6WCDmVmfm"
      },
      "source": [
        "# III. Earth Engine Code Editor Tutorials\n",
        "The Earth Engine (EE) Code Editor at https://code.earthengine.google.com is a web-based IDE for the Earth Engine JavaScript API. Code Editor features are designed to make developing complex geospatial workflows fast and easy. The Code Editor has the following elements :\n",
        "* JavaScript code editor\n",
        "* Map display for visualizing geospatial datasets\n",
        "* API reference documentation (Docs tab)\n",
        "* Git-based Script Manager (Scripts tab)\n",
        "* Console output (Console tab)\n",
        "* Task Manager (Tasks tab) to handle long-running queries\n",
        "* Interactive map query (Inspector tab)\n",
        "* Search of the data archive or saved scripts\n",
        "* Geometry drawing tools\n",
        "  \n",
        "<img src=\"tuto_images/earth-engine-code-editor.PNG\" width=500>\n",
        "\n",
        "Read https://developers.google.com/earth-engine/guides/playground for more information\n",
        "\n",
        "## Table of contents : \n",
        "* [1. Add Table to Assets](#1.-Add-Table-to-Assets)\n",
        "* [2. Add Image to Assets](#2.-Add-Image-to-Assets)\n",
        "* [3. Adding Missclassified Pixels to Assets and Array\n",
        "](#3.-Adding-Missclassified-Pixels-to-Assets-and-Array)"
      ]
    },
    {
      "cell_type": "markdown",
      "metadata": {
        "id": "QgakBA5eVqwV"
      },
      "source": [
        "## 1. Add Table to Assets\n",
        "\n",
        "- **1.** If your file is a \"kml\" file, convert it to a \".shp\" file by using this website https://mygeodata.cloud/converter/kml-to-shp OR by using **QGIS software** : \n",
        "  * **a.** Drag your kml to the QGIS window.\n",
        "  * **b.** Right-click on your layer and choose \"Export\" then \"Export Feature As\"   \n",
        "  <img src=\"tuto_images/3.PNG\" width=\"400\">  \n",
        "\n",
        "  * **c.** Set \"Format\" as \"ESRI Shapefile\" and the CRS as \"EPSG:3857 / Pseudo-Mercator\"  \n",
        "  * **d.** Fill \"File name\" to the name of the file. Careful, you should provide the directory : example C:\\....pipe.shp\n",
        "  * **e.** Click on \"OK\" and wait, this could take a moment. Now you have created several files, please keep them all.  \n",
        "  <img src=\"tuto_images/4.PNG\" width=\"400\"> \n",
        "    \n",
        "- **2.** Upload your files to your Google Earth Engine Editor :   \n",
        "  * **a.** Go to https://code.earthengine.google.com/\n",
        "  * **b.** Click on \"Assets\", then \"NEW\", then below \"Table Upload\", click on \"Shape files\". \n",
        "  <img src=\"tuto_images/5.PNG\" width=\"400\">\n",
        "  * **c.** Select all the files you just created with QGIS.  \n",
        "  * **d.** Name your Table, for example \"saur_zone2\"\n",
        "  * **e.** Click on \"UPLOAD\" \n",
        "  <img src=\"tuto_images/16.PNG\" width=\"400\">\n",
        "  - **f.** On the right corner of your screen, click on \"Tasks\". Check the status of your export.\n",
        "  <img src=\"tuto_images/17.PNG\" width=\"400\">\n",
        " \n",
        "Now you can access your table by typing : image = ee.FeatureCollection(assetid) with assetid = directory/network_name.\n",
        "You can find the assetid by clicking on the asset.  \n",
        "<img src=\"tuto_images/11.PNG?modified=02022021134100\" width=\"400\">"
      ]
    },
    {
      "cell_type": "markdown",
      "metadata": {
        "id": "5n6PcM-zV0IM"
      },
      "source": [
        "## 2. Add Image to Assets\n",
        "*replace `filename` by the name of your inference image in the tutorial below*\n",
        "\n",
        "- **1.** First, if not already done, add your network to Google Earth Editor's Assets following the tutorial in the previous section.\n",
        "- **2.** Go to https://code.earthengine.google.com/ .\n",
        "- **3.** Click on \"Assets\", then \"NEW\", then below \"Image Upload\", click on \"GeoTIFF\".  \n",
        "<img src=\"tuto_images/1.PNG\" width=\"400\">\n",
        "- **4.** In \"Sources files\" select the files `pred_filename.TFRecord` and `filename-mixer.json` in your folder 'inference'\n",
        "- **5.** Set \"AssetId\" to \"`filename`_pred\"\n",
        "- **6.** Click on \"UPLOAD\"  z\n",
        "<img src=\"tuto_images/2.PNG\" width=\"400\">\n",
        "- **7.** On the right corner of your screen, click on \"Tasks\". Check the status of your export.  \n",
        "If there's an error \"cannot read mixer file\", retry the steps above by putting the mixer file before the tfrecord file and vise-versa several times until you succeed, the system bugs sometimes.\n",
        "<img src=\"tuto_images/6.PNG\" width=\"400\">\n",
        "\n",
        "Now you can access your image by typing : image = **ee.Image(assetid)** with assetid = directory/filename_pred.  \n",
        "You can find the assetid by clicking on the asset.  \n",
        "<img src=\"tuto_images/7.PNG?modified=02022021134700\" width=\"400\">"
      ]
    },
    {
      "cell_type": "markdown",
      "metadata": {
        "id": "VxTcolpFLkcR"
      },
      "source": [
        "## 3. Adding Missclassified Pixels to Assets and Array (after first training)\n",
        "* **1.** Go the https://code.earthengine.google.com/ and display the predictions on the Map by executing the following in the Code Editor :\n",
        "``` \n",
        "var imageId ='users/leakm/filename_pred'\n",
        "image = ee.Image(imageId)\n",
        "Map.addLayer(image,{min:0,max:3,palette:['lime','darkgreen','yellow','blue']},'predictions') \n",
        "``` \n",
        "* **2.** Clic on the 'Satellite' button on the right corner to visualize satellite images. \n",
        "<img src=\"tuto_images/12.PNG?modified=02022021135200\" width=\"500\">  \n",
        "* **3.** Zoom in the image, play with the transparency slider (where the \"Layers\" button is) and spot the misclassified regions.\n",
        "* **4.** Clic on the Rectangle button on the left and draw rectangles around all the misclassified regions **of one and only one class**. Example : draw **only the fields** that were misclassified.\n",
        "<img src=\"tuto_images/13.PNG\" width=\"500\">  \n",
        "* **5.** Clic on the edit button of the given geometry. \n",
        "<img src=\"tuto_images/14.PNG\" width=\"500\">  \n",
        "* **6.** Change the name of the feature  \n",
        "* **7.** Change the type from Geometry to FeatureCollection.\n",
        "* **8.** Add a property called \"landcover\" and set its value to the class' index (0 for field, 1 for forest, 2 for urban and 3 for water)\n",
        "* **9.** Save  \n",
        "<img src=\"tuto_images/15.PNG\" width=\"500\">  \n",
        "* **10.** Do the same for the other misclassified classes.  \n",
        "* **11.** Let's say we constructed 'misclassified_fields' and 'misclassified_urbain'. Now we have to join the FeatureCollections and export the result. Write this code on the Editor and execute :  \n",
        "```\n",
        "var new_pixels = miclassified_fields.merge(misclassified_urbain)` \n",
        "Export.table.toAsset({  \n",
        "  collection:new_pixels,  \n",
        "  description:'misclassified_pixels',  \n",
        "  assetId:'misclassified_pixels'  \n",
        "})\n",
        "```\n",
        "* **12.** Now back to your Python script. Execute the following function to get a tuple (new_pixels,new_labels).\n",
        "\n"
      ]
    },
    {
      "cell_type": "code",
      "execution_count": null,
      "metadata": {
        "id": "dNDvw-66M3Rx"
      },
      "outputs": [],
      "source": [
        "def get_more_pixels(collection_name,start_date,end_date):\n",
        "  geometry = ee.FeatureCollection(collection_name)\n",
        "  list = geometry.toList(geometry.size())\n",
        "  image = get_image(start_date,end_date) #the same image source as the training set\n",
        "  pixels = []\n",
        "  labels = []\n",
        "  for i in range(list.size().getInfo()) :\n",
        "    new_class = ee.Feature(list.get(i))\n",
        "    array = image.sampleRectangle(new_class.geometry(),defaultValue=0)\n",
        "    im = np.dstack([np.array(array.get(b).getInfo()) for b in BANDS])\n",
        "    im = np.reshape(im,[-1,im.shape[-1]])\n",
        "    pixels.append(im)\n",
        "    labels.append(np.int64(np.ones(im.shape[0])*new_class.get('landcover').getInfo()))\n",
        "\n",
        "  pixels = np.concatenate(pixels,axis=0)\n",
        "  labels = np.concatenate(labels,axis=0)\n",
        "  pixels = feature_process(pixels) #the same processing as for the training set\n",
        "  return pixels,labels\n",
        "\n",
        "new_pixels,new_labels = get_more_pixels('users/Leakmited/misclassified_pixels','2020-01-01','2020-12-31')\n",
        "#features = np.concatenate([pixels,new_pixels],axis=0)\n",
        "#labels = np.concatenate([labels,new_labels],axis=0)"
      ]
    }
  ],
  "metadata": {
    "colab": {
      "provenance": [],
      "toc_visible": true
    },
    "kernelspec": {
      "display_name": "Python 3",
      "language": "python",
      "name": "python3"
    },
    "language_info": {
      "codemirror_mode": {
        "name": "ipython",
        "version": 3
      },
      "file_extension": ".py",
      "mimetype": "text/x-python",
      "name": "python",
      "nbconvert_exporter": "python",
      "pygments_lexer": "ipython3",
      "version": "3.7.9"
    }
  },
  "nbformat": 4,
  "nbformat_minor": 0
}